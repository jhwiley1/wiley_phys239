{
 "cells": [
  {
   "cell_type": "code",
   "execution_count": 1,
   "metadata": {},
   "outputs": [
    {
     "name": "stdout",
     "output_type": "stream",
     "text": [
      "Problem 1:\n",
      "The column density of the cloud, given D=100 pc and n=1 cm^-3, is: N=3.086e+20 cm^-2.\n",
      "The cross section needed to have a total optical depth of 1e-03 is: 3.240e-24 cm^2\n",
      "The cross section needed to have a total optical depth of 1e+00 is: 3.240e-21 cm^2\n",
      "The cross section needed to have a total optical depth of 1e+03 is: 3.240e-18 cm^2\n",
      "Problem 2:\n",
      "1\n",
      "[[0. 0. 0. ... 0. 0. 0.]]\n"
     ]
    }
   ],
   "source": [
    "import matplotlib.pyplot as plt\n",
    "import math\n",
    "from astropy.io import fits\n",
    "import numpy as np\n",
    "\n",
    "def function1(D,n,opt_dep):\n",
    "    col_den=float(D)*float(n) #Calculation for column density, obtained by integrating volumetric density over a column, in this case, depth D times density n\n",
    "    col_den=col_den*3.086*10.**18#Parsec to centimeter conversion to put column density in units of cm^-2\n",
    "    cro_sec=opt_dep/col_den # Cross section is equal to optical depth divided by column density.\n",
    "    return(col_den,cro_sec)\n",
    "\n",
    "def function2(D,n,cro_sec,I_0,S):\n",
    "    step_arr=np.linspace(0,D*3.086*10.**18,10000) #Define array 0 to D stepsize ds\n",
    "    int_arr=np.zeros((1,len(step_arr))) #Initialize another array using same steps but holding intensity values\n",
    "    int_arr[0]=I_0 #set first element to I_0\n",
    "    col_den=float(D)*float(n)*3.086*10.**18\n",
    "    opt_dep=cro_sec*float(D)*float(n)*3.086*10.**18 #Optical depth is equal to cross section times column density\n",
    "    Si=np.ones((1,len(step_arr)))\n",
    "    for i in range(1,len(int_arr)):\n",
    "        print(step_arr)\n",
    "        int_arr[i]=int_arr[0]*math.e**(-opt_dep)+Si[i]\n",
    "   \n",
    "    print(len(int_arr))\n",
    "    return(int_arr)\n",
    "\n",
    "###########################################################################################################################################################\n",
    "\n",
    "print('Problem 1:')\n",
    "\n",
    "#Enter cloud parameters\n",
    "D=100 #Cloud depth in pc\n",
    "n=1 #Density in cm^-3\n",
    "opt_dep=10**-3 #Optical depth is 10^-3\n",
    "\n",
    "col_den,cro_sec=function1(D,n,opt_dep)\n",
    "print('The column density of the cloud, given D=%3.0f pc and n=%1.0f cm^-3, is: N=%4.3e cm^-2.' % (D,n,col_den))\n",
    "print('The cross section needed to have a total optical depth of %1.0e is: %4.3e cm^2' % (opt_dep,cro_sec))\n",
    "\n",
    "opt_dep=1\n",
    "col_den,cro_sec=function1(D,n,opt_dep)\n",
    "\n",
    "print('The cross section needed to have a total optical depth of %1.0e is: %4.3e cm^2' % (opt_dep,cro_sec))\n",
    "\n",
    "\n",
    "opt_dep=10**3\n",
    "col_den,cro_sec=function1(D,n,opt_dep)\n",
    "\n",
    "print('The cross section needed to have a total optical depth of %1.0e is: %4.3e cm^2' %(opt_dep,cro_sec))\n",
    "\n",
    "################################################################################################################################################################\n",
    "\n",
    "print('Problem 2:')\n",
    "\n",
    "S=np.ones((1,10000))\n",
    "I_D=function2(D,n,cro_sec,0,S)\n",
    "print(I_D)\n"
   ]
  },
  {
   "cell_type": "code",
   "execution_count": 16,
   "metadata": {},
   "outputs": [
    {
     "name": "stdout",
     "output_type": "stream",
     "text": [
      "1\n"
     ]
    }
   ],
   "source": [
    "step_arr=np.linspace(0,D*3.086*10.**18,100) #Define array 0 to D stepsize ds\n",
    "I_0=1\n",
    "int_arr=np.zeros((1,len(step_arr))) #Initialize another array using same steps but holding intensity values\n",
    "#int_arr[0]=I_0 #set first element to I_0\n",
    "col_den=float(D)*float(n)*3.086*10.**18\n",
    "opt_dep=cro_sec*float(D)*float(n)*3.086*10.**18 #Optical depth is equal to cross section times column density\n",
    "Si=np.ones((1,len(step_arr)))\n",
    "range_length=len(int_arr)\n",
    "print(range_length)\n",
    "for i in range(1,range_length):\n",
    "    print('hi')\n",
    "    int_arr[i]=int_arr[0]*math.e**(-opt_dep)+Si[i]"
   ]
  },
  {
   "cell_type": "code",
   "execution_count": null,
   "metadata": {},
   "outputs": [],
   "source": []
  }
 ],
 "metadata": {
  "kernelspec": {
   "display_name": "Python 3",
   "language": "python",
   "name": "python3"
  },
  "language_info": {
   "codemirror_mode": {
    "name": "ipython",
    "version": 3
   },
   "file_extension": ".py",
   "mimetype": "text/x-python",
   "name": "python",
   "nbconvert_exporter": "python",
   "pygments_lexer": "ipython3",
   "version": "3.7.8"
  }
 },
 "nbformat": 4,
 "nbformat_minor": 4
}
